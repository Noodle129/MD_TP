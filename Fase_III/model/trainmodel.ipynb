{
 "cells": [
  {
   "attachments": {},
   "cell_type": "markdown",
   "metadata": {},
   "source": [
    "## To do\n",
    "\n",
    "#### - Merge do dataset de AQI com o dataset de meteorologia ✅\n",
    "#### - Visualização de dados (gráficos, box plots, matriz de correlação, outliers) ✅\n",
    "#### - Teste de hipóteses\n",
    "#### - Feature Engineering\n",
    "\n",
    "### - Prever com algoritmos o AQI baseado em dados meteorológicos em determinadas coordenadas ✅\n",
    "\n",
    "## Trabalho Futuro\n",
    "\n",
    "#### - Interpolação noutras coordenadas\n",
    "#### - Data augmentation"
   ]
  },
  {
   "cell_type": "code",
   "execution_count": 6,
   "metadata": {},
   "outputs": [],
   "source": [
    "import pandas as pd "
   ]
  },
  {
   "cell_type": "code",
   "execution_count": 7,
   "metadata": {},
   "outputs": [],
   "source": [
    "# Read the data again\n",
    "\n",
    "df = pd.read_csv('datasets/FINALDATASET.csv')"
   ]
  },
  {
   "cell_type": "code",
   "execution_count": 3,
   "metadata": {},
   "outputs": [],
   "source": [
    "# Find the coordinates to interpolate\n",
    "\n",
    "# import numpy as np\n",
    "\n",
    "# Define the coordinates\n",
    "\n",
    "# coordinates = [\n",
    "#     [41.5549, -8.4067],\n",
    "#     [41.653315, -8.58779],\n",
    "#     [41.650791, -8.43569],\n",
    "#     [41.449721999999994, -8.296389]\n",
    "# ]\n",
    "\n",
    "# Convert the coordinates to a numpy array\n",
    "# coordinates_array = np.array(coordinates)\n",
    "\n",
    "# Calculate the mean of the latitude and longitude\n",
    "# mean_latitude = np.mean(coordinates_array[:, 0])\n",
    "# mean_longitude = np.mean(coordinates_array[:, 1])\n",
    "\n",
    "# Print the medium point\n",
    "# print(\"Medium Point Latitude:\", mean_latitude)\n",
    "# print(\"Medium Point Longitude:\", mean_longitude)\n",
    "\n",
    "# 41.57718199999999,-8.43164225 - ZONA NOVA ARCADA\n",
    "# https://www.google.com/maps/place/41%C2%B034'37.9%22N+8%C2%B025'53.9%22W/@41.5772226,-8.4318715,53m/data=!3m1!1e3!4m4!3m3!8m2!3d41.577182!4d-8.4316422"
   ]
  },
  {
   "cell_type": "code",
   "execution_count": 5,
   "metadata": {},
   "outputs": [],
   "source": [
    "# from scipy.interpolate import Rbf\n",
    "# \n",
    "# filtered_df = df[df['parameter'].isin(['pm1', 'pm25', 'pm10','no2'])]\n",
    "# \n",
    "# coordinates = filtered_df[['latitude', 'longitude']].values\n",
    "# values = filtered_df['value'].values\n",
    "\n",
    "# Perform IDW interpolation\n",
    "# rbf = Rbf(coordinates[:, 0], coordinates[:, 1], values)\n",
    "# interpolated_value = rbf(41.577929249999995, -8.40629225)\n",
    "\n",
    "# Print the interpolated value\n",
    "# print(\"Interpolated Value:\", interpolated_value)"
   ]
  },
  {
   "attachments": {},
   "cell_type": "markdown",
   "metadata": {},
   "source": [
    "# Linear Regression - Primeira abordagem"
   ]
  },
  {
   "cell_type": "code",
   "execution_count": 8,
   "metadata": {},
   "outputs": [
    {
     "name": "stdout",
     "output_type": "stream",
     "text": [
      "Erro Quadrático Médio (conjunto de treinamento): 1013.889873019862\n",
      "Erro Quadrático Médio (conjunto de teste): 1179.4432989023771\n"
     ]
    }
   ],
   "source": [
    "import pandas as pd\n",
    "from sklearn.linear_model import LinearRegression\n",
    "from sklearn.model_selection import train_test_split\n",
    "from sklearn.impute import SimpleImputer\n",
    "from sklearn.compose import ColumnTransformer\n",
    "from sklearn.preprocessing import OneHotEncoder\n",
    "from sklearn.pipeline import Pipeline\n",
    "from sklearn.metrics import mean_squared_error\n",
    "\n",
    "# Carrega o conjunto de dados\n",
    "df = pd.read_csv('datasets/FINALDATASET.csv')\n",
    "\n",
    "# Separando os dados de entrada (X) e saída (y)\n",
    "X = df.drop('AQI', axis=1)\n",
    "y = df['AQI']\n",
    "\n",
    "# Divisão dos dados em conjuntos de treinamento e teste\n",
    "X_train, X_test, y_train, y_test = train_test_split(X, y, test_size=0.2, random_state=42)\n",
    "\n",
    "# Definindo as colunas numéricas e categóricas\n",
    "numeric_features = ['longitude', 'latitude', 'no2', 'pm10', 'pm25', 'pm1',\n",
    "                    'tempmax', 'tempmin', 'temp', 'feelslike', 'dew',\n",
    "                    'humidity', 'severerisk', 'precip', 'snow', 'windspeed',\n",
    "                    'sealevelpressure', 'cloudcover', 'visibility',\n",
    "                    'solarradiation', 'solarenergy', 'uvindex']\n",
    "categorical_features = ['date', 'time']\n",
    "\n",
    "# Pipeline de pré-processamento\n",
    "numeric_transformer = Pipeline(steps=[('imputer', SimpleImputer(strategy='mean'))])\n",
    "categorical_transformer = Pipeline(steps=[('onehot', OneHotEncoder(handle_unknown='ignore'))])\n",
    "\n",
    "preprocessor = ColumnTransformer(\n",
    "    transformers=[\n",
    "        ('num', numeric_transformer, numeric_features),\n",
    "        ('cat', categorical_transformer, categorical_features)])\n",
    "\n",
    "# Modelagem e treinamento\n",
    "model = Pipeline(steps=[('preprocessor', preprocessor),\n",
    "                        ('regressor', LinearRegression())])\n",
    "model.fit(X_train, y_train)\n",
    "\n",
    "# Avaliação do modelo\n",
    "y_pred_train = model.predict(X_train)\n",
    "y_pred_test = model.predict(X_test)\n",
    "\n",
    "# Cálculo do erro quadrático médio\n",
    "mse_train = mean_squared_error(y_train, y_pred_train)\n",
    "mse_test = mean_squared_error(y_test, y_pred_test)\n",
    "\n",
    "print(\"Erro Quadrático Médio (conjunto de treinamento):\", mse_train)\n",
    "print(\"Erro Quadrático Médio (conjunto de teste):\", mse_test)\n"
   ]
  },
  {
   "attachments": {},
   "cell_type": "markdown",
   "metadata": {},
   "source": [
    "# Random Forest - Primeira abordagem"
   ]
  },
  {
   "cell_type": "code",
   "execution_count": 10,
   "metadata": {},
   "outputs": [
    {
     "name": "stdout",
     "output_type": "stream",
     "text": [
      "Erro Quadrático Médio (conjunto de treinamento): 0.004191248860528708\n",
      "Erro Quadrático Médio (conjunto de teste): 5.7994791666667735e-05\n"
     ]
    }
   ],
   "source": [
    "import pandas as pd\n",
    "from sklearn.model_selection import train_test_split\n",
    "from sklearn.ensemble import RandomForestRegressor\n",
    "from sklearn.metrics import mean_squared_error\n",
    "from sklearn.impute import SimpleImputer\n",
    "\n",
    "# Selecionar as features e o target\n",
    "features = ['longitude', 'latitude', 'no2', 'pm10', 'pm25', 'pm1', 'tempmax', 'tempmin', 'temp', 'feelslike', 'dew', 'humidity', 'severerisk', 'precip', 'snow', 'windspeed', 'sealevelpressure', 'cloudcover', 'visibility', 'solarradiation', 'solarenergy', 'uvindex']\n",
    "target = 'AQI'\n",
    "\n",
    "# Dividir os dados em conjuntos de treinamento e teste\n",
    "X_train, X_test, y_train, y_test = train_test_split(df[features], df[target], test_size=0.2, random_state=42)\n",
    "\n",
    "# Pré-processamento: preencher valores ausentes com a média\n",
    "imputer = SimpleImputer(strategy='mean')\n",
    "X_train = imputer.fit_transform(X_train)\n",
    "X_test = imputer.transform(X_test)\n",
    "\n",
    "# Criar e treinar o modelo\n",
    "model = RandomForestRegressor(n_estimators=100, random_state=42)\n",
    "model.fit(X_train, y_train)\n",
    "\n",
    "# Fazer previsões no conjunto de treinamento e teste\n",
    "y_pred_train = model.predict(X_train)\n",
    "y_pred_test = model.predict(X_test)\n",
    "\n",
    "# Calcular o erro quadrático médio\n",
    "mse_train = mean_squared_error(y_train, y_pred_train)\n",
    "mse_test = mean_squared_error(y_test, y_pred_test)\n",
    "\n",
    "print(\"Erro Quadrático Médio (conjunto de treinamento):\", mse_train)\n",
    "print(\"Erro Quadrático Médio (conjunto de teste):\", mse_test)"
   ]
  }
 ],
 "metadata": {
  "kernelspec": {
   "display_name": "env",
   "language": "python",
   "name": "python3"
  },
  "language_info": {
   "codemirror_mode": {
    "name": "ipython",
    "version": 3
   },
   "file_extension": ".py",
   "mimetype": "text/x-python",
   "name": "python",
   "nbconvert_exporter": "python",
   "pygments_lexer": "ipython3",
   "version": "3.6.13"
  },
  "orig_nbformat": 4
 },
 "nbformat": 4,
 "nbformat_minor": 2
}
