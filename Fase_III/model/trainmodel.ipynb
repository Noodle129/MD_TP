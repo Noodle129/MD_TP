{
 "cells": [
  {
   "attachments": {},
   "cell_type": "markdown",
   "metadata": {},
   "source": [
    "## To do\n",
    "\n",
    "### Merge do dataset de AQI com o dataset de meteorologia\n",
    "\n",
    "### Visualização de dados (gráficos, box plots, matriz de correlação, outliers)\n",
    "### Teste de hipóteses\n",
    "### Feature Engineering\n",
    "\n",
    "### Prever com algoritmos o AQI baseado em dados meteorológicos\n",
    "\n",
    "## Se possível\n",
    "\n",
    "### Interpolação noutras coordenadas\n",
    "### Data augmentation"
   ]
  },
  {
   "cell_type": "code",
   "execution_count": null,
   "metadata": {},
   "outputs": [],
   "source": [
    "import pandas as pd "
   ]
  },
  {
   "cell_type": "code",
   "execution_count": null,
   "metadata": {},
   "outputs": [],
   "source": [
    "# Read the data again\n",
    "\n",
    "df = pd.read_csv('datasets/FINAL2.csv')"
   ]
  },
  {
   "cell_type": "code",
   "execution_count": null,
   "metadata": {},
   "outputs": [
    {
     "name": "stdout",
     "output_type": "stream",
     "text": [
      "Medium Point Latitude: 41.57718199999999\n",
      "Medium Point Longitude: -8.43164225\n"
     ]
    }
   ],
   "source": [
    "# Find the coordinates to interpolate\n",
    "\n",
    "import numpy as np\n",
    "\n",
    "# Define the coordinates\n",
    "coordinates = [\n",
    "    [41.5549, -8.4067],\n",
    "    [41.653315, -8.58779],\n",
    "    [41.650791, -8.43569],\n",
    "    [41.449721999999994, -8.296389]\n",
    "]\n",
    "\n",
    "# Convert the coordinates to a numpy array\n",
    "coordinates_array = np.array(coordinates)\n",
    "\n",
    "# Calculate the mean of the latitude and longitude\n",
    "mean_latitude = np.mean(coordinates_array[:, 0])\n",
    "mean_longitude = np.mean(coordinates_array[:, 1])\n",
    "\n",
    "# Print the medium point\n",
    "print(\"Medium Point Latitude:\", mean_latitude)\n",
    "print(\"Medium Point Longitude:\", mean_longitude)\n",
    "\n",
    "# 41.57718199999999,-8.43164225 - ZONA NOVA ARCADA\n",
    "# https://www.google.com/maps/place/41%C2%B034'37.9%22N+8%C2%B025'53.9%22W/@41.5772226,-8.4318715,53m/data=!3m1!1e3!4m4!3m3!8m2!3d41.577182!4d-8.4316422"
   ]
  },
  {
   "cell_type": "code",
   "execution_count": null,
   "metadata": {},
   "outputs": [],
   "source": [
    "# calculate AQI for each row\n",
    "def calculateAQI(data):\n",
    "\n",
    "    # define breakpoints\n",
    "    breakpoints = [\n",
    "        {\n",
    "            \"pollutant\": \"no2\",\n",
    "            \"conc\": [0, 50, 100, 200, 400, 1000],\n",
    "            \"aqi\": [0, 50, 100, 150, 200, 300, 400],\n",
    "        },\n",
    "        {\n",
    "            \"pollutant\": \"pm10\",\n",
    "            \"conc\": [0, 20, 40, 70, 100, 200],\n",
    "            \"aqi\": [0, 50, 100, 150, 200, 300, 400],\n",
    "        },\n",
    "        {\n",
    "            \"pollutant\": \"o3\",\n",
    "            \"conc\": [0, 54, 70, 85, 105, 200],\n",
    "            \"aqi\": [0, 50, 100, 150, 200, 300, 400],\n",
    "        },\n",
    "    ]\n",
    "\n",
    "    # calculate AQI for each pollutant\n",
    "    def aqiForConcentration(pollutant, conc):\n",
    "        bp = next(bp for bp in breakpoints if bp[\"pollutant\"] == pollutant)\n",
    "        i = next(i for i, c in enumerate(bp[\"conc\"]) if c > conc) - 1\n",
    "        cLow = bp[\"conc\"][i]\n",
    "        cHigh = bp[\"conc\"][i + 1]\n",
    "        aqiLow = bp[\"aqi\"][i]\n",
    "        aqiHigh = bp[\"aqi\"][i + 1]\n",
    "        return round(((aqiHigh - aqiLow) / (cHigh - cLow)) * (conc - cLow) + aqiLow)\n",
    "\n",
    "    # calculate AQI for each row\n",
    "    for index, row in data.iterrows():\n",
    "        aqi = None\n",
    "        for pollutant in [\"no2\", \"pm10\", \"o3\"]:\n",
    "            if row[pollutant] is not None:\n",
    "                aqi = aqiForConcentration(pollutant, row[pollutant])\n",
    "                break\n",
    "        data.at[index, \"AQI\"] = aqi\n",
    "    \n",
    "    return data\n",
    "braga_air_data = calculateAQI(braga_air_data)\n",
    "# drop columns no2, pm10, o3\n",
    "braga_air_data = braga_air_data.drop(columns=[\"no2\", \"pm10\", \"o3\"])\n",
    "braga_air_data.head()"
   ]
  },
  {
   "cell_type": "code",
   "execution_count": 5,
   "metadata": {},
   "outputs": [],
   "source": [
    "from scipy.interpolate import Rbf\n",
    "\n",
    "filtered_df = df[df['parameter'].isin(['pm1', 'pm25', 'pm10','no2'])]\n",
    "\n",
    "coordinates = filtered_df[['latitude', 'longitude']].values\n",
    "values = filtered_df['value'].values\n",
    "\n",
    "# Perform IDW interpolation\n",
    "rbf = Rbf(coordinates[:, 0], coordinates[:, 1], values)\n",
    "interpolated_value = rbf(41.577929249999995, -8.40629225)\n",
    "\n",
    "# Print the interpolated value\n",
    "print(\"Interpolated Value:\", interpolated_value)"
   ]
  }
 ],
 "metadata": {
  "kernelspec": {
   "display_name": "env",
   "language": "python",
   "name": "python3"
  },
  "language_info": {
   "codemirror_mode": {
    "name": "ipython",
    "version": 3
   },
   "file_extension": ".py",
   "mimetype": "text/x-python",
   "name": "python",
   "nbconvert_exporter": "python",
   "pygments_lexer": "ipython3",
   "version": "3.6.13"
  },
  "orig_nbformat": 4
 },
 "nbformat": 4,
 "nbformat_minor": 2
}
