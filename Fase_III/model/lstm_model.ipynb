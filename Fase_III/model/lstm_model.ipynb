{
 "cells": [
  {
   "attachments": {},
   "cell_type": "markdown",
   "metadata": {},
   "source": [
    "# Modelação de Time Series - LSTM"
   ]
  },
  {
   "attachments": {},
   "cell_type": "markdown",
   "metadata": {},
   "source": [
    "## Imports"
   ]
  },
  {
   "cell_type": "code",
   "execution_count": null,
   "metadata": {},
   "outputs": [],
   "source": [
    "import numpy as np\n",
    "from tensorflow.keras.models import Sequential\n",
    "from tensorflow.keras.layers import LSTM, Dense"
   ]
  },
  {
   "attachments": {},
   "cell_type": "markdown",
   "metadata": {},
   "source": [
    "## Leitura"
   ]
  },
  {
   "cell_type": "code",
   "execution_count": null,
   "metadata": {},
   "outputs": [],
   "source": [
    "braga_time_series = pd.read_csv('../model/datasets/FINALDATASET.csv')\n",
    "\n",
    "# merge date and time columns into a datetime column\n",
    "braga_time_series['datetime'] = pd.to_datetime(braga_time_series['date'] + ' ' + braga_time_series['time'])\n",
    "braga_time_series.set_index('datetime', inplace=True)\n",
    "\n",
    "# drop the time column\n",
    "braga_time_series.drop('time', axis=1, inplace=True)\n",
    "\n",
    "# replace missing values with the median\n",
    "missing_columns = ['pm10', 'pm25', 'pm1', 'no2']\n",
    "\n",
    "for column in missing_columns:\n",
    "    braga_time_series[column] = braga_time_series[column].fillna(braga_time_series[column].median())\n",
    "\n",
    "# remove NaT values from datetime index\n",
    "braga_time_series = braga_time_series[braga_time_series.index.notnull()]\n",
    "\n",
    "# drop the date column\n",
    "braga_time_series.drop('date', axis=1, inplace=True)\n",
    "\n",
    "braga_time_series.head()"
   ]
  },
  {
   "attachments": {},
   "cell_type": "markdown",
   "metadata": {},
   "source": [
    "## Modelação"
   ]
  },
  {
   "cell_type": "code",
   "execution_count": null,
   "metadata": {},
   "outputs": [],
   "source": [
    "train_size = int(len(braga_time_series) * 0.8)  # 80% for training\n",
    "train_data = braga_time_series[:train_size]\n",
    "test_data = braga_time_series[train_size:]\n",
    "\n",
    "input_dim = 4  # number of features\n",
    "output_dim = 1  # number of targets\n",
    "input_sequence_length = 24  # number of time steps in each sample"
   ]
  },
  {
   "cell_type": "code",
   "execution_count": null,
   "metadata": {},
   "outputs": [],
   "source": [
    "model = Sequential()\n",
    "model.add(LSTM(64, input_shape=(input_sequence_length, input_dim)))\n",
    "model.add(Dense(output_dim))\n",
    "\n",
    "model.compile(loss='mean_squared_error', optimizer='adam')\n",
    "\n",
    "model.fit(X_train, y_train, batch_size=32, epochs=10)\n",
    "\n",
    "loss = model.evaluate(X_test, y_test)\n",
    "\n",
    "predictions = model.predict(new_data)\n"
   ]
  }
 ],
 "metadata": {
  "language_info": {
   "name": "python"
  },
  "orig_nbformat": 4
 },
 "nbformat": 4,
 "nbformat_minor": 2
}
