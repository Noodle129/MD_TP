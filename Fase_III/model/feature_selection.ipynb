{
 "cells": [
  {
   "attachments": {},
   "cell_type": "markdown",
   "metadata": {},
   "source": [
    "# Seleção de Atributos"
   ]
  },
  {
   "attachments": {},
   "cell_type": "markdown",
   "metadata": {},
   "source": [
    "## Imports"
   ]
  },
  {
   "cell_type": "code",
   "execution_count": null,
   "metadata": {},
   "outputs": [],
   "source": [
    "from mlxtend.feature_selection import SequentialFeatureSelector as SFS"
   ]
  },
  {
   "attachments": {},
   "cell_type": "markdown",
   "metadata": {},
   "source": [
    "# Feature Selection com Wrapper Methods"
   ]
  },
  {
   "attachments": {},
   "cell_type": "markdown",
   "metadata": {},
   "source": [
    "Num sentido de averiguar de modo automático, decidimos testar métodos de *wrapper* para observar quais as *features* que seriam selecionadas.\n",
    "Vamos tentar:\n",
    "* *Forward selection*\n",
    "* *Backward elimination*\n",
    "* *Bi-directional elimination (Stepwise Selection)*"
   ]
  },
  {
   "cell_type": "code",
   "execution_count": null,
   "metadata": {},
   "outputs": [],
   "source": [
    "# Sequential Forward Selection(sfs)\n",
    "sfs = SFS(LinearRegression(),\n",
    "          k_features=(4,5),\n",
    "          forward=True,\n",
    "          floating=False,\n",
    "          cv = 0)\n",
    "\n",
    "# Sequential Backward Elimination (sbe)\n",
    "sbe = SFS(LinearRegression(),\n",
    "         k_features=(4,5),\n",
    "         forward=False,\n",
    "         floating=False,\n",
    "         cv=0)\n",
    "\n",
    "# Stepwise Selection (ss)\n",
    "ss = SFS(LinearRegression(),\n",
    "         k_features=(4,5),\n",
    "         forward=True,\n",
    "         floating=True,\n",
    "         cv=0)"
   ]
  },
  {
   "cell_type": "code",
   "execution_count": null,
   "metadata": {},
   "outputs": [],
   "source": [
    "print(\"SFS:\\n\")\n",
    "sfs.fit(X_train, Y_train)\n",
    "print(sfs.k_feature_names_)\n",
    "print(\"-\"*50)\n",
    "\n",
    "print(\"SBE:\\n\")\n",
    "sbe.fit(X_train, Y_train)\n",
    "print(sbe.k_feature_names_)\n",
    "print(\"-\"*50)\n",
    "\n",
    "print(\"SS:\\n\")\n",
    "ss.fit(X_train, Y_train)\n",
    "print(ss.k_feature_names_)\n",
    "print(\"-\"*50)"
   ]
  },
  {
   "attachments": {},
   "cell_type": "markdown",
   "metadata": {},
   "source": [
    "# Feature Selection com Teste de Hipóteses"
   ]
  },
  {
   "attachments": {},
   "cell_type": "markdown",
   "metadata": {},
   "source": [
    "Como os dados não seguem uma distribuição normal, não podemos recorrer não método de heatmap de Pearson. Para verificar quais as features a manter, vamos envergar pelo método do teste de hipóteses.\n",
    "\n",
    "* H0 (hipótese nula): as duas features estão correlacionadas\n",
    "* HA (hipótese alternativa): as duas features não estão correlacionadas\n",
    "* Significância = 0.05"
   ]
  },
  {
   "attachments": {},
   "cell_type": "markdown",
   "metadata": {},
   "source": [
    "## Temperatura\n",
    "print(\"Temperatura:\\n\")\n",
    "# S1_Temp and S2_Temp\n",
    "print(stats.spearmanr(df['S1_Temp'], df['S2_Temp']))\n",
    "# S1_Temp and S3_Temp\n",
    "print(stats.spearmanr(df['S1_Temp'], df['S3_Temp']))\n",
    "# S1_Temp and S4_Temp\n",
    "print(stats.spearmanr(df['S1_Temp'], df['S4_Temp']))\n",
    "print(\"-\"*50)\n",
    "\n",
    "## Luz\n",
    "print(\"Luz:\\n\")\n",
    "# S1_Light and S2_Light\n",
    "print(stats.spearmanr(df['S1_Light'], df['S2_Light']))\n",
    "# S1_Light and S3_Light\n",
    "print(stats.spearmanr(df['S1_Light'], df['S3_Light']))\n",
    "# S1_Light and S4_Light\n",
    "print(stats.spearmanr(df['S1_Light'], df['S4_Light']))\n",
    "print(\"-\"*50)\n",
    "\n",
    "## Som\n",
    "print(\"Som:\\n\")\n",
    "# S1_Sound and S2_Sound\n",
    "print(stats.spearmanr(df['S1_Sound'], df['S2_Sound']))\n",
    "# S1_Sound and S3_Sound\n",
    "print(stats.spearmanr(df['S1_Sound'], df['S3_Sound']))\n",
    "# S1_Sound and S4_Sound\n",
    "print(stats.spearmanr(df['S1_Sound'], df['S4_Sound']))\n",
    "print(\"-\"*50)\n",
    "\n",
    "## CO2\n",
    "print(\"CO2:\\n\")\n",
    "# S5_CO2 and S5_CO2_Slope\n",
    "print(stats.spearmanr(df['S5_CO2'], df['S5_CO2_Slope']))\n",
    "print(\"-\"*50)\n",
    "\n",
    "## Movimento\n",
    "print(\"Movimento:\\n\")\n",
    "## S6_PIR and S7_PIR\n",
    "print(stats.spearmanr(df['S6_PIR'], df['S7_PIR']))\n",
    "print(\"-\"*50)"
   ]
  },
  {
   "attachments": {},
   "cell_type": "markdown",
   "metadata": {},
   "source": [
    "Então:\n",
    "\n",
    "| **Features**          | **Correlaçao** | **P-value < Significancia (S/N)** | **Rejeitar H0 (S/N)** | **Resultado**       |\n",
    "|-----------------------|----------------|-----------------------------------|-----------------------|---------------------|\n",
    "|   S1_Temp & S2_Temp   |      Forte     |                Sim                |          Nao          | **Correlacionados** |\n",
    "|   S1_Temp & S3_Temp   |      Forte     |                Sim                |          Nao          | **Correlacionados** |\n",
    "|   S1_Temp & S4_Temp   |      Forte     |                Sim                |          Nao          | **Correlacionados** |\n",
    "|  S1_Light & S2_Light  |      Forte     |                Sim                |          Nao          | **Correlacionados** |\n",
    "|  S1_Light & S3_Light  |      Forte     |                Sim                |          Nao          | **Correlacionados** |\n",
    "|  S1_Light & S4_Light  |      Forte     |                Sim                |          Nao          | **Correlacionados** |\n",
    "|  S1_Sound & S2_Sound  |      Fraca     |                Sim                |          Nao          | **Correlacionados** |\n",
    "|  S1_Sound & S3_Sound  |      Fraca     |                Sim                |          Nao          | **Correlacionados** |\n",
    "|  S1_Sound & S4_Sound  |      Fraca     |                Sim                |          Nao          | **Correlacionados** |\n",
    "| S5_CO2 & S5_CO2_Slope |      Fraca     |                Sim                |          Nao          | **Correlacionados** |\n",
    "|    S6_PIR & S7_PIR    |      Fraca     |                Sim                |          Nao          | **Correlacionados** |"
   ]
  },
  {
   "attachments": {},
   "cell_type": "markdown",
   "metadata": {},
   "source": [
    "https://www.analyticsvidhya.com/blog/2021/03/multicollinearity-in-data-science/"
   ]
  },
  {
   "cell_type": "markdown",
   "metadata": {},
   "source": [
    "Observações:\n",
    "* As features **S1_Temp**, **S2_Temp**, **S3_Temp** e **S4_Temp** estão muito correlacionadas (>= 0.83), logo, vamos ficar apenas com a coluna **S1_Temp**;\n",
    "* As features **S1_Light**, **S2_Light**, **S3_Light** e **S4_Light** estão muito correlacionadas (>= 0.93), logo, vamos ficar apenas com a coluna **S1_Light**;\n",
    "* As features **S1_Sound**, **S2_Sound**, **S3_Sound** e **S4_Sound** estão fracamente correlacionadas (>= 0.035), logo, vamos ficar apenas com a coluna **S1_Sound**;\n",
    "* As features **S5_CO2** e **S5_CO2_Slope** estão correlacionadas (>= 0.31), logo, vamos ficar apenas com a coluna **S5_CO2**;\n",
    "* As features **S6_PIR** e **S7_PIR** estão correlacionadas (>= 0.54), logo, vamos ficar apenas com a coluna **S6_PIR**;\n",
    "\n",
    "[1] https://www.analyticsvidhya.com/blog/2021/03/multicollinearity-in-data-science/\n",
    "\n",
    "* As features **S1_Temp**, **S1_Light**, **S1_Sound**, **S5_CO2** e **S6_PIR** apresentam mair correlação com o target;\n",
    "\n",
    "Das condições anteriores, resultam as colunas que devemos manter."
   ]
  }
 ],
 "metadata": {
  "language_info": {
   "name": "python"
  },
  "orig_nbformat": 4
 },
 "nbformat": 4,
 "nbformat_minor": 2
}
